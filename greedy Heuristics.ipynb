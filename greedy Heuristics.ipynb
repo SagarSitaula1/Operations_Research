{
  "nbformat": 4,
  "nbformat_minor": 0,
  "metadata": {
    "colab": {
      "name": "Copy of Untitled30.ipynb",
      "provenance": [],
      "include_colab_link": true
    },
    "kernelspec": {
      "name": "python3",
      "display_name": "Python 3"
    },
    "language_info": {
      "name": "python"
    }
  },
  "cells": [
    {
      "cell_type": "markdown",
      "metadata": {
        "id": "view-in-github",
        "colab_type": "text"
      },
      "source": [
        "<a href=\"https://colab.research.google.com/github/SagarSitaula1/Operations_Research/blob/main/greedy%20Heuristics.ipynb\" target=\"_parent\"><img src=\"https://colab.research.google.com/assets/colab-badge.svg\" alt=\"Open In Colab\"/></a>"
      ]
    },
    {
      "cell_type": "markdown",
      "metadata": {
        "id": "i_4QVqdV96a6"
      },
      "source": [
        "Greedy Heuristics\n",
        "\n",
        "\n",
        "\n"
      ]
    },
    {
      "cell_type": "markdown",
      "metadata": {
        "id": "woaZjkArTMAh"
      },
      "source": [
        "## Introduction/Motivation\n",
        "\n",
        "\n",
        "\n",
        "\n"
      ]
    },
    {
      "cell_type": "markdown",
      "metadata": {
        "id": "n0AD_VXnYiKq"
      },
      "source": [
        "\n",
        "**Greedy Heuristics**\n",
        "\n",
        "**INTRODUCTION**\n",
        "A greedy heuristics is an algorithmic strategy that makes the best optimal choice at each small stage with the goal of this eventually leading to a globally optimum solution. This means that the algorithm picks the best solution at the moment without regard for consequences. It picks the best immediate output, but does not guarantee the global optimum solution, hence it is considered greedy.\n",
        "\n",
        "\n",
        "\n",
        "\n",
        "**MOTIVATION**\n",
        "The greedy heuristics works by making locally optimal decision on every step hoping to get an global optimal solution. Since this algorithm doesn't try to optimize the problem globally, it can be very fast, faster than  many other algorithms. So, in a probelm like the travelling salemans a person has to travel a lot of cities and the algorithm can get preety complex and time consuming if we try to optimize it using other algorithm. But using greedy meathod we might be able to get the optimal solution but the time complexity would be a lot lower. We can also apply thsi in our real life, for example if we cannot find our keys at home, and if we try  to look for the keys in every corner of our house it can be time consuming and also most of us don't search the places like the freezer or the places we dont keep them. Rather we use greedy meathod to look for the places we keep our key most of the time. We may not find the key everytime by the greedy meathod but if we do it will be a lot faster then searching all over our house.\n",
        "\n",
        "\n",
        "\n",
        "\n",
        "**HISTORY**\n",
        "\n",
        "The Dutch computer scientist and mathematician Edsger W. Dijkstra coined the term greedy algorithm for the first time when he wanted to calculate the minimum spanning tree. Back then, the greedy algorithms were primarily used to solve graph based problems. In the 1950s, the greedy algorithm first started to show around. During the same decade, the then scientist Prim and Kruksal also found the optimization techniques for reducing the costs of the graphs. In the 1970s, a few years later, many American researchers presented a recursive strategy for solving greedy problems. The NIST records filed the greedy algorithm as a different optimization strategy. Since that time, the greedy heuristics have been broadly used in numerous fields including the web protocols like open-shortest-path-first(OSPF) and several other network packet switching protocols.\n"
      ]
    },
    {
      "cell_type": "markdown",
      "metadata": {
        "id": "DVKCnmI8UBTG"
      },
      "source": [
        "## Theory"
      ]
    },
    {
      "cell_type": "markdown",
      "metadata": {
        "id": "5GgWvxZMYjTU"
      },
      "source": [
        "Use **bold** for terms that you are defining.\n",
        "\n"
      ]
    },
    {
      "cell_type": "markdown",
      "metadata": {
        "id": "gZAnmh5LlmwX"
      },
      "source": [
        "****\n",
        "\n"
      ]
    },
    {
      "cell_type": "markdown",
      "metadata": {
        "id": "VXEn-1oj8CG_"
      },
      "source": [
        "### Example 1"
      ]
    },
    {
      "cell_type": "markdown",
      "metadata": {
        "id": "hbqQ17BOlqGN"
      },
      "source": [
        "**TRAVELLING SALESMAN PROBLEM**\n",
        "\n",
        "The traveling salesman problem consists of a salesman and a set of cities. The salesman has to visit each one of the cities starting from a certain one (e.g. the hometown) and returning to the same city. The challenge of the problem is that the traveling salesman wants to minimize the total length of the trip.\n",
        "\n",
        "\n",
        "\n",
        "Greedy algorithm is the simplest improvement algorithm. It starts with\n",
        "the departure Node 1. Then the algorithm calculates all the distances to\n",
        "other n − 1 nodes. Go to the next closest node. Take the current node as\n",
        "the departing node, and select the next nearest node from the remaining\n",
        "n − 2 nodes. The process continues until all the nodes are visited once\n",
        "and only once then back to Node 1. When the algorithm is terminated,\n",
        "the sequence is returned as the best tour.\n",
        "\n"
      ]
    },
    {
      "cell_type": "markdown",
      "metadata": {
        "id": "xwx5JA688Gqu"
      },
      "source": [
        "### Example 2"
      ]
    },
    {
      "cell_type": "markdown",
      "metadata": {
        "id": "UCeUiE8j8Ngm"
      },
      "source": [
        "let us suppose we are hiking and our goal is to reach the top of the mountain. When we looked at the map there were hundred of trails and all the trails did't connect or lead to the top and also was longer routes as it followed only the trails. Can we apply greedy approach to get to the top of the mountains in short time and without exhausting ourself?"
      ]
    },
    {
      "cell_type": "markdown",
      "metadata": {
        "id": "mNw-J3Wvoejc"
      },
      "source": [
        ""
      ]
    },
    {
      "cell_type": "markdown",
      "metadata": {
        "id": "fb2uZl1q_LR_"
      },
      "source": [
        "## References\n",
        "\n",
        "- Maciej Białogłowski, et al. “Dynamics of Stochastic vs. Greedy Heuristics in Traveling Salesman Problem.” Zeszyty Naukowe Warszawskiej Wyższej Szkoły Informatyki, vol. 12, no. 19, Dec. 2018, pp. 7–24. EBSCOhost, doi:10.26348/znwwsi.19.7.\n",
        "\n",
        "- Bee. “Greedy Algorithms in Python.” Skerritt.blog (Alt + H), 1 Jan. 2021, skerritt.blog/greedy-algorithms/. \n",
        "\n",
        "- Corman H. Thomas, Leiserson E. Charles, Rivest L. Ronald, Stein Clifford “Introduction to\n",
        "Algorithms” Second Edition McGrawHill Book Company \n",
        "\n",
        "- David L.Applegate, Robert E.Bixby, Vasek Chvatal, William J.Cook ”The\n",
        "Traveling Salesman Problem”, year = 2001.\n",
        "\n",
        "- http://math.mit.edu/~goemans/18453S17/TSP-CookCPS.pdf\n",
        "\n",
        "\n",
        "\n",
        "\n"
      ]
    },
    {
      "cell_type": "markdown",
      "metadata": {
        "id": "DGC5WaH4Y98C"
      },
      "source": [
        "## Problems"
      ]
    },
    {
      "cell_type": "code",
      "metadata": {
        "id": "mbMCC1ZMZAHk"
      },
      "source": [
        "import random\n",
        "import math\n",
        "\n",
        "BIG_NUM = 1000000000000\n",
        "\n",
        "def dist(x,y,error_variance = 0):\n",
        "  error = 1.0\n",
        "  if error_variance > 0:\n",
        "          error = random.gauss(1,error_variance)\n",
        "          error = min(max(0.7,error), 1.3)\n",
        "  dd = [x[i]-y[i] for i in range(len(x))]\n",
        "  return math.sqrt(sum([e*e for e in dd]))* error\n",
        "\n",
        "def total_dist(start,coords,order):\n",
        "  total_dist = 0\n",
        "  for i in range(len(order)):\n",
        "    if i == 0:\n",
        "      p1= start\n",
        "    else:\n",
        "        p1 = coords[order[i-1]]\n",
        "  p2 = coords[order[i]]\n",
        "  total_dist += dist(p1,p2)\n",
        "  return total_dist\n",
        "\n",
        "def greedy_func(start,coords,error_variance=0):\n",
        "\n",
        "   n= len(coords)\n",
        "   visited = [0 for e in coords]\n",
        "   current = start\n",
        "\n",
        "   for i in range(n):\n",
        "     min_dist = BIG_NUM\n",
        "     min_k = -1\n",
        "     for k in range(n):\n",
        "       if visited[k] == 0:\n",
        "         dist_ = dist(current, coords[k], error_variance)\n",
        "         if dist_ < min_dist:\n",
        "           min_dist = dist_\n",
        "           min_k = k\n",
        "\n",
        "     visited[min_k] = i+1\n",
        "     current = coords[min_k]\n",
        "     visited[min_k] = i+1\n",
        "     current = coords[min_k]\n",
        "   \n",
        "   order = [visited.index(i) for i in range(1,1+n)]\n",
        "   return total_dist(start, coods,order), order\n",
        "\n",
        "def combination(n, level, order, coords, dist_prev, min_dist = BIG_NUM):\n",
        "  if level == n:\n",
        "           return dist_prev,order\n",
        "  min_order = -1\n",
        "  min_dist = min_dist_\n",
        "  left = {e for e in range(n-1)}- set(order)\n",
        "  for i in left:\n",
        "      dist_next = dist_prev + dist(coords[i], coords, dist_next, min_dist)\n",
        "      if dist_next > min_dist:\n",
        "        continue\n",
        "        order[level] = i\n",
        "        dist_,order_ = combination(n, level+1, order, coords, dist_next, min_dist)\n",
        "        if dist_ <= min_dist and order_ >-1:\n",
        "          min_dist = dist_\n",
        "          min_order = [e for e in order_]\n",
        "        order[level] = -1\n",
        "  return min_dist, min_order\n",
        "\n",
        "def optimal(start, coords, min_dist = BIG_NUM):\n",
        "          n = len(coords)\n",
        "          order = [-1 for e in range(n+1)]\n",
        "          order[0] = nextcoords.append(start)\n",
        "          min_dist,min_order = combination(n+1,1,order,coords,0.0,min_dist_)\n",
        "          del min_order[0]\n",
        "          coords.pop()\n",
        "          return min_dist,min_order  \n",
        "\n",
        " \n",
        "\n"
      ],
      "execution_count": null,
      "outputs": []
    },
    {
      "cell_type": "markdown",
      "metadata": {
        "id": "pz5xCYtbZCGZ"
      },
      "source": [
        "## Project Idea"
      ]
    },
    {
      "cell_type": "markdown",
      "metadata": {
        "id": "LrBCw5_-ZJFK"
      },
      "source": [
        ""
      ]
    },
    {
      "cell_type": "markdown",
      "metadata": {
        "id": "C8i0wsUKijeP"
      },
      "source": [
        "### Authors"
      ]
    },
    {
      "cell_type": "markdown",
      "metadata": {
        "id": "rajid0PdipzE"
      },
      "source": [
        "Principal authors of this chapter were: [N.C.Jacob](https://github.com/nurfnick), but you!\n",
        "\n",
        "Contributions were made by:Sagar Sitaula, Anjila Karki, Indra thapa"
      ]
    },
    {
      "cell_type": "code",
      "metadata": {
        "id": "7gUn1NirlAep"
      },
      "source": [
        ""
      ],
      "execution_count": null,
      "outputs": []
    }
  ]
}