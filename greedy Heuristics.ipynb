{
  "nbformat": 4,
  "nbformat_minor": 0,
  "metadata": {
    "colab": {
      "name": "Copy of Untitled30.ipynb",
      "provenance": [],
      "include_colab_link": true
    },
    "kernelspec": {
      "name": "python3",
      "display_name": "Python 3"
    },
    "language_info": {
      "name": "python"
    }
  },
  "cells": [
    {
      "cell_type": "markdown",
      "metadata": {
        "id": "view-in-github",
        "colab_type": "text"
      },
      "source": [
        "<a href=\"https://colab.research.google.com/github/anjilakarkigit/Operations_Research/blob/main/greedy%20Heuristics.ipynb\" target=\"_parent\"><img src=\"https://colab.research.google.com/assets/colab-badge.svg\" alt=\"Open In Colab\"/></a>"
      ]
    },
    {
      "cell_type": "markdown",
      "metadata": {
        "id": "i_4QVqdV96a6"
      },
      "source": [
        "Greedy Heuristics\n",
        "\n",
        "\n",
        "\n"
      ]
    },
    {
      "cell_type": "markdown",
      "metadata": {
        "id": "woaZjkArTMAh"
      },
      "source": [
        "## Introduction/Motivation\n",
        "\n",
        "\n",
        "\n",
        "\n"
      ]
    },
    {
      "cell_type": "markdown",
      "metadata": {
        "id": "n0AD_VXnYiKq"
      },
      "source": [
        "**Greedy Heuristics**\n",
        "\n",
        "**History**\n",
        "\n",
        "The Dutch computer scientist and mathematician Edsger W. Dijkstra coined the term greedy algorithm for the first time when he wanted to calculate the minimum spanning tree. Back then, the greedy algorithms were primarily used to solve graph based problems. In the 1950s, the greedy algorithm first started to show around. During the same decade, the then scientist Prim and Kruksal also found the optimization techniques for reducing the costs of the graphs. In the 1970s, a few years later, many American researchers presented a recursive strategy for solving greedy problems. The NIST records filed the greedy algorithm as a different optimization strategy. Since that time, the greedy heuristics have been broadly used in numerous fields including the web protocols like open-shortest-path-first(OSPF) and several other network packet switching protocols.\n"
      ]
    },
    {
      "cell_type": "markdown",
      "metadata": {
        "id": "DVKCnmI8UBTG"
      },
      "source": [
        "## Theory"
      ]
    },
    {
      "cell_type": "markdown",
      "metadata": {
        "id": "5GgWvxZMYjTU"
      },
      "source": [
        "Use **bold** for terms that you are defining.\n",
        "\n"
      ]
    },
    {
      "cell_type": "markdown",
      "metadata": {
        "id": "gZAnmh5LlmwX"
      },
      "source": [
        "*Travelling salesman *\n",
        "\n",
        "we will be focusing on the travelling salesman problem and the algorithms used in this problem. To tackle the problems, we can first create a graph with seven different points which are called cities and label them 1 to 7. So, after the points are plotted the salesman needs to start from one city and end in the same city by visiting all the cities only once## Examples"
      ]
    },
    {
      "cell_type": "markdown",
      "metadata": {
        "id": "VXEn-1oj8CG_"
      },
      "source": [
        "### Example 1"
      ]
    },
    {
      "cell_type": "markdown",
      "metadata": {
        "id": "hbqQ17BOlqGN"
      },
      "source": [
        "\n",
        "\n"
      ]
    },
    {
      "cell_type": "markdown",
      "metadata": {
        "id": "xwx5JA688Gqu"
      },
      "source": [
        "### Example 2"
      ]
    },
    {
      "cell_type": "markdown",
      "metadata": {
        "id": "UCeUiE8j8Ngm"
      },
      "source": [
        ""
      ]
    },
    {
      "cell_type": "markdown",
      "metadata": {
        "id": "fb2uZl1q_LR_"
      },
      "source": [
        "## References\n",
        "\n",
        "Maciej Białogłowski, et al. “Dynamics of Stochastic vs. Greedy Heuristics in Traveling Salesman Problem.” Zeszyty Naukowe Warszawskiej Wyższej Szkoły Informatyki, vol. 12, no. 19, Dec. 2018, pp. 7–24. EBSCOhost, doi:10.26348/znwwsi.19.7.\n",
        "\n",
        "Bee. “Greedy Algorithms in Python.” Skerritt.blog (Alt + H), 1 Jan. 2021, skerritt.blog/greedy-algorithms/. \n",
        "\n",
        "\n"
      ]
    },
    {
      "cell_type": "markdown",
      "metadata": {
        "id": "DGC5WaH4Y98C"
      },
      "source": [
        "## Problems"
      ]
    },
    {
      "cell_type": "code",
      "metadata": {
        "id": "mbMCC1ZMZAHk"
      },
      "source": [
        "import random\n",
        "import math\n",
        "\n",
        "BIG_NUM = 1000000000000\n",
        "\n",
        "def dist(x,y,error_variance = 0):\n",
        "  error = 1.0\n",
        "  if error_variance > 0:\n",
        "          error = random.gauss(1,error_variance)\n",
        "          error = min(max(0.7,error), 1.3)\n",
        "  dd = [x[i]-y[i] for i in range(len(x))]\n",
        "  return math.sqrt(sum([e*e for e in dd]))* error\n",
        "\n",
        "def total_dist(start,coords,order):\n",
        "  total_dist = 0\n",
        "  for i in range(len(order)):\n",
        "    if i == 0:\n",
        "      p1= start\n",
        "    else:\n",
        "        p1 = coords[order[i-1]]\n",
        "  p2 = coords[order[i]]\n",
        "  total_dist += dist(p1,p2)\n",
        "  return total_dist\n",
        "\n",
        "def greedy_func(start,coords,error_variance=0):\n",
        "\n",
        "   n= len(coords)\n",
        "   visited = [0 for e in coords]\n",
        "   current = start\n",
        "\n",
        "   for i in range(n):\n",
        "     min_dist = BIG_NUM\n",
        "     min_k = -1\n",
        "     for k in range(n):\n",
        "       if visited[k] == 0:\n",
        "         dist_ = dist(current, coords[k], error_variance)\n",
        "         if dist_ < min_dist:\n",
        "           min_dist = dist_\n",
        "           min_k = k\n",
        "\n",
        "     visited[min_k] = i+1\n",
        "     current = coords[min_k]\n",
        "     visited[min_k] = i+1\n",
        "     current = coords[min_k]\n",
        "   \n",
        "   order = [visited.index(i) for i in range(1,1+n)]\n",
        "   return total_dist(start, coods,order), order\n",
        "\n",
        "def combination(n, level, order, coords, dist_prev, min_dist = BIG_NUM):\n",
        "  if level == n:\n",
        "           return dist_prev,order\n",
        "  min_order = -1\n",
        "  min_dist = min_dist_\n",
        "  left = {e for e in range(n-1)}- set(order)\n",
        "  for i in left:\n",
        "      dist_next = dist_prev + dist(coords[i], coords, dist_next, min_dist)\n",
        "      if dist_next > min_dist:\n",
        "        continue\n",
        "        order[level] = i\n",
        "        dist_,order_ = combination(n, level+1, order, coords, dist_next, min_dist)\n",
        "        if dist_ <= min_dist and order_ >-1:\n",
        "          min_dist = dist_\n",
        "          min_order = [e for e in order_]\n",
        "        order[level] = -1\n",
        "  return min_dist, min_order\n",
        "\n",
        "def optimal(start, coords, min_dist = BIG_NUM):\n",
        "          n = len(coords)\n",
        "          order = [-1 for e in range(n+1)]\n",
        "          order[0] = nextcoords.append(start)\n",
        "          min_dist,min_order = combination(n+1,1,order,coords,0.0,min_dist_)\n",
        "          del min_order[0]\n",
        "          coords.pop()\n",
        "          return min_dist,min_order  \n",
        "\n",
        " \n",
        "\n"
      ],
      "execution_count": null,
      "outputs": []
    },
    {
      "cell_type": "markdown",
      "metadata": {
        "id": "pz5xCYtbZCGZ"
      },
      "source": [
        "## Project Idea"
      ]
    },
    {
      "cell_type": "markdown",
      "metadata": {
        "id": "LrBCw5_-ZJFK"
      },
      "source": [
        ""
      ]
    },
    {
      "cell_type": "markdown",
      "metadata": {
        "id": "C8i0wsUKijeP"
      },
      "source": [
        "### Authors"
      ]
    },
    {
      "cell_type": "markdown",
      "metadata": {
        "id": "rajid0PdipzE"
      },
      "source": [
        "Principal authors of this chapter were: [N.C.Jacob](https://github.com/nurfnick), but you!\n",
        "\n",
        "Contributions were made by:Sagar Sitaula, Anjila Karki, Indra thapa"
      ]
    },
    {
      "cell_type": "code",
      "metadata": {
        "id": "7gUn1NirlAep"
      },
      "source": [
        ""
      ],
      "execution_count": null,
      "outputs": []
    }
  ]
}